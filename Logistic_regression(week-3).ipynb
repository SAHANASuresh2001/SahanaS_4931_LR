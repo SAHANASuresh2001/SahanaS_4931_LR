{
 "cells": [
  {
   "cell_type": "code",
   "execution_count": 1,
   "id": "0a98885c",
   "metadata": {},
   "outputs": [],
   "source": [
    "# Importing libraries\n",
    "import numpy as np\n",
    "import pandas as pd"
   ]
  },
  {
   "cell_type": "code",
   "execution_count": 9,
   "id": "6c25b273",
   "metadata": {},
   "outputs": [
    {
     "name": "stdout",
     "output_type": "stream",
     "text": [
      "<function LogisticRegression.accuracy_score at 0x000001BB26875700>\n"
     ]
    }
   ],
   "source": [
    "class LogisticRegression():\n",
    "    def __init__(self, learning_rate=0.01, num_iterations=100000):\n",
    "        self.learning_rate = learning_rate\n",
    "        self.num_iterations = num_iterations\n",
    "        \n",
    "    \n",
    "    def sigmoid(self, x):\n",
    "        return 1 / (1 + np.exp(-z))\n",
    "    \n",
    "    def fit(self,X,y):\n",
    "            n_samples, n_features= X.shape\n",
    "            self.weights=np.zeros(n_features)\n",
    "            self.bias=02\n",
    "            \n",
    "            for i in range(self.n_iters):\n",
    "                linear_pred=np.dot(X, self.weights) + self.bias\n",
    "                predictions=sigmoid(linear_pred)\n",
    "                \n",
    "                # calculating gradient for weight and bias\n",
    "                dw=(1/n_samples) * np.dot(X.T,(predictions-y))\n",
    "                db=(1/n_samples) *np.sum(predictions-y)\n",
    "                \n",
    "                \n",
    "                # for updating weights and bias\n",
    "                self.weights=self.weights-self.learning_rate*dw\n",
    "                self.bias=self.bias-self.learning_rate*db\n",
    "                \n",
    "    def predict(X,y,weight,bias):\n",
    "        Z = np.dot(self.weights,X)+self.bias\n",
    "        LR = sigmoid(Z)\n",
    "        class_pred = [0 if y<0.5 else 1 for y in y_pred]\n",
    "        return class_pred\n",
    "         \n",
    "    # driver code\n",
    "    def main() :\n",
    "        df = pd.read_csv(\"iris.csv\", header=0)   # reading the csv file\n",
    "        #input-output split\n",
    "        X = df.iloc[:,:-1].values\n",
    "        y = df.iloc[:,-1:].values\n",
    "    \n",
    "    \n",
    "     # defining a fuction for train -test split\n",
    "    \n",
    "    def split_data(self,X, y, test_size=0.2, random_state=0):\n",
    "        np.random.seed(random_state)                  #set the seed for reproducible results\n",
    "        indices = np.random.permutation(len(X))       #shuffling the indices\n",
    "        data_test_size = int(X.shape[0] * test_size)  #Get the test size\n",
    "\n",
    "        #Separating the Independent and Dependent features into the Train and Test Set\n",
    "        train_indices = indices[data_test_size:]\n",
    "        test_indices = indices[:data_test_size]\n",
    "        X_train = X[train_indices]\n",
    "        y_train = y[train_indices]\n",
    "        X_test = X[test_indices]\n",
    "        y_test = y[test_indices]\n",
    "        return X_train, y_train, X_test, y_test\n",
    "    \n",
    "        #Splitting the dataset\n",
    "        X_train, y_train, X_test, y_test = split_data(X,y)\n",
    "    \n",
    "         \n",
    "         # model fitting\n",
    "        model=LogisticRegression()\n",
    "        model.fit(X_train,y_train)\n",
    "        y_pred=model.predict(X_test)\n",
    "        \n",
    "    def accuracy_score(y_test, y_pred):\n",
    "        \"\"\"Calculate the accuracy score for a set of predictions.\"\"\"\n",
    "        n_correct = np.sum(y_test == y_pred)\n",
    "        n_total = y_test.shape[0]\n",
    "        accuracy = n_correct / n_total\n",
    "        return accuracy\n",
    "    \n",
    "    acc=accuracy_score\n",
    "    print(acc)\n",
    "    "
   ]
  },
  {
   "cell_type": "code",
   "execution_count": null,
   "id": "ea36cf49",
   "metadata": {},
   "outputs": [],
   "source": []
  }
 ],
 "metadata": {
  "kernelspec": {
   "display_name": "Python 3 (ipykernel)",
   "language": "python",
   "name": "python3"
  },
  "language_info": {
   "codemirror_mode": {
    "name": "ipython",
    "version": 3
   },
   "file_extension": ".py",
   "mimetype": "text/x-python",
   "name": "python",
   "nbconvert_exporter": "python",
   "pygments_lexer": "ipython3",
   "version": "3.9.13"
  }
 },
 "nbformat": 4,
 "nbformat_minor": 5
}
