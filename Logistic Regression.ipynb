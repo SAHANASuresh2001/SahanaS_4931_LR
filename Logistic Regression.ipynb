{
 "cells": [
  {
   "cell_type": "markdown",
   "id": "ebedc971",
   "metadata": {},
   "source": [
    "# Logistic Regression from scratch"
   ]
  },
  {
   "cell_type": "code",
   "execution_count": 1,
   "id": "e1f7b0aa",
   "metadata": {},
   "outputs": [],
   "source": [
    "# Importing libraries\n",
    "import numpy as np\n",
    "import pandas as pd\n",
    "import warnings\n",
    "warnings.filterwarnings( \"ignore\" )"
   ]
  },
  {
   "cell_type": "markdown",
   "id": "6c100176",
   "metadata": {},
   "source": [
    "# Sigmoid Function"
   ]
  },
  {
   "cell_type": "code",
   "execution_count": 2,
   "id": "3895ea55",
   "metadata": {},
   "outputs": [],
   "source": [
    "def sigmoid(x):\n",
    "   return 1/(1+np.exp(-x))"
   ]
  },
  {
   "cell_type": "markdown",
   "id": "4273869c",
   "metadata": {},
   "source": [
    "# Defining a class LogisticRegression"
   ]
  },
  {
   "cell_type": "code",
   "execution_count": 3,
   "id": "bc531242",
   "metadata": {},
   "outputs": [],
   "source": [
    "class LogisticRegression():\n",
    "    \n",
    "    def _init_(self, lr=0.001, n_iters=1000):\n",
    "        self.lr=lr\n",
    "        self.n_iters=n_iters\n",
    "        self.weights=None\n",
    "        self.bias=None\n",
    "        \n",
    "        "
   ]
  },
  {
   "cell_type": "code",
   "execution_count": 4,
   "id": "cb8a2036",
   "metadata": {},
   "outputs": [],
   "source": [
    "def fit(self,X,y):\n",
    "            n_samples, n_features= X.shape\n",
    "            self.weights=np.zeros(n_features)\n",
    "            self.bias=0\n",
    "            \n",
    "            for i in range(self.n_iters):\n",
    "                linear_pred=np.dot(X,self.weights)+self.bias\n",
    "                predictions=sigmoid(linear_pred)\n",
    "                \n",
    "                # calculating gradient for weight and bias\n",
    "                dw=(1/n_samples) * np.dot(X.T,(predictions-y))\n",
    "                db=(1/n_samples) *np.sum(predictions-y)\n",
    "                \n",
    "                \n",
    "                # for updating weights and bias\n",
    "                self.weights=self.weights-self.lr*dw\n",
    "                self.bias=self.bias-self.lr*db\n",
    "                \n",
    "        "
   ]
  },
  {
   "cell_type": "code",
   "execution_count": 5,
   "id": "8961d10a",
   "metadata": {},
   "outputs": [],
   "source": [
    "def predict(self, X):\n",
    "            y_linear=np.dot(X,self.weights)+self.bias\n",
    "            y_pred=sigmoid(linear_pred)\n",
    "            class_pred = [0 if y<0.5 else 1 for y in y_pred]\n",
    "            return class_pred\n",
    "        \n",
    "    "
   ]
  }
 ],
 "metadata": {
  "kernelspec": {
   "display_name": "Python 3 (ipykernel)",
   "language": "python",
   "name": "python3"
  },
  "language_info": {
   "codemirror_mode": {
    "name": "ipython",
    "version": 3
   },
   "file_extension": ".py",
   "mimetype": "text/x-python",
   "name": "python",
   "nbconvert_exporter": "python",
   "pygments_lexer": "ipython3",
   "version": "3.9.13"
  }
 },
 "nbformat": 4,
 "nbformat_minor": 5
}
