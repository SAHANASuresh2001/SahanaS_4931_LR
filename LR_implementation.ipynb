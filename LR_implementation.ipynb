{
 "cells": [
  {
   "cell_type": "code",
   "execution_count": 1,
   "id": "0a98885c",
   "metadata": {},
   "outputs": [],
   "source": [
    "# Importing libraries\n",
    "import numpy as np\n",
    "import warnings\n",
    "warnings.filterwarnings( \"ignore\" )"
   ]
  },
  {
   "cell_type": "code",
   "execution_count": 4,
   "id": "6c25b273",
   "metadata": {},
   "outputs": [],
   "source": [
    "class LogisticRegression():\n",
    "    def __init__(self, learning_rate=0.01, num_iterations=100000, fit_intercept=True):\n",
    "        self.learning_rate = learning_rate\n",
    "        self.num_iterations = num_iterations\n",
    "        self.fit_intercept = fit_intercept"
   ]
  },
  {
   "cell_type": "code",
   "execution_count": 5,
   "id": "849d0606",
   "metadata": {},
   "outputs": [],
   "source": [
    "def add_intercept(self, X):\n",
    "        intercept = np.ones((X.shape[0], 1))\n",
    "        return np.concatenate((intercept, X), axis=1)"
   ]
  },
  {
   "cell_type": "code",
   "execution_count": 7,
   "id": "45614e72",
   "metadata": {},
   "outputs": [],
   "source": [
    " def sigmoid(self, x):\n",
    "        return 1 / (1 + np.exp(-z))"
   ]
  },
  {
   "cell_type": "code",
   "execution_count": 9,
   "id": "bb12f727",
   "metadata": {},
   "outputs": [],
   "source": [
    "def fit(self,X,y):\n",
    "            n_samples, n_features= X.shape\n",
    "            self.weights=np.zeros(n_features)\n",
    "            self.bias=0\n",
    "            \n",
    "            for i in range(self.n_iters):\n",
    "                linear_pred=np.dot(X, self.weights) + self.bias\n",
    "                predictions=sigmoid(linear_pred)\n",
    "                \n",
    "                # calculating gradient for weight and bias\n",
    "                dw=(1/n_samples) * np.dot(X.T,(predictions-y))\n",
    "                db=(1/n_samples) *np.sum(predictions-y)\n",
    "                \n",
    "                \n",
    "                # for updating weights and bias\n",
    "                self.weights=self.weights-self.learning_rate*dw\n",
    "                self.bias=self.bias-self.learning_rate*db\n",
    "                "
   ]
  },
  {
   "cell_type": "code",
   "execution_count": 4,
   "id": "defd0d10",
   "metadata": {},
   "outputs": [],
   "source": [
    "def predict(X,y,weight,bias):\n",
    "    Z = np.dot(self.weights,X)+self.bias\n",
    "    LR = sigmoid(Z)\n",
    "    class_pred = [0 if y<0.5 else 1 for y in y_pred]\n",
    "    return class_pred\n",
    "         \n",
    "   "
   ]
  },
  {
   "cell_type": "code",
   "execution_count": null,
   "id": "c7738c52",
   "metadata": {},
   "outputs": [],
   "source": []
  }
 ],
 "metadata": {
  "kernelspec": {
   "display_name": "Python 3 (ipykernel)",
   "language": "python",
   "name": "python3"
  },
  "language_info": {
   "codemirror_mode": {
    "name": "ipython",
    "version": 3
   },
   "file_extension": ".py",
   "mimetype": "text/x-python",
   "name": "python",
   "nbconvert_exporter": "python",
   "pygments_lexer": "ipython3",
   "version": "3.9.13"
  }
 },
 "nbformat": 4,
 "nbformat_minor": 5
}
