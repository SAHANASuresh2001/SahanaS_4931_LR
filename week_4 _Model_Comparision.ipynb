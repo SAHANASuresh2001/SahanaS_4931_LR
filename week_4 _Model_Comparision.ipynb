{
 "cells": [
  {
   "cell_type": "code",
   "execution_count": 54,
   "id": "82d015e9",
   "metadata": {},
   "outputs": [],
   "source": [
    "# Importing all necessary Libraries\n",
    "\n",
    "import numpy as np # numpy used for mathematical operation on array\n",
    "import pandas as pd  # pandas used for data manipulation on dataframe\n",
    "import seaborn as sns \n",
    "import matplotlib.pyplot as plt\n",
    "import warnings\n",
    "warnings.filterwarnings( \"ignore\" )"
   ]
  },
  {
   "cell_type": "code",
   "execution_count": 55,
   "id": "3118291f",
   "metadata": {},
   "outputs": [
    {
     "data": {
      "text/html": [
       "<div>\n",
       "<style scoped>\n",
       "    .dataframe tbody tr th:only-of-type {\n",
       "        vertical-align: middle;\n",
       "    }\n",
       "\n",
       "    .dataframe tbody tr th {\n",
       "        vertical-align: top;\n",
       "    }\n",
       "\n",
       "    .dataframe thead th {\n",
       "        text-align: right;\n",
       "    }\n",
       "</style>\n",
       "<table border=\"1\" class=\"dataframe\">\n",
       "  <thead>\n",
       "    <tr style=\"text-align: right;\">\n",
       "      <th></th>\n",
       "      <th>sepal_length</th>\n",
       "      <th>sepal_width</th>\n",
       "      <th>petal_length</th>\n",
       "      <th>petal_width</th>\n",
       "      <th>species</th>\n",
       "    </tr>\n",
       "  </thead>\n",
       "  <tbody>\n",
       "    <tr>\n",
       "      <th>0</th>\n",
       "      <td>5.1</td>\n",
       "      <td>3.5</td>\n",
       "      <td>1.4</td>\n",
       "      <td>0.2</td>\n",
       "      <td>setosa</td>\n",
       "    </tr>\n",
       "    <tr>\n",
       "      <th>1</th>\n",
       "      <td>4.9</td>\n",
       "      <td>3.0</td>\n",
       "      <td>1.4</td>\n",
       "      <td>0.2</td>\n",
       "      <td>setosa</td>\n",
       "    </tr>\n",
       "    <tr>\n",
       "      <th>2</th>\n",
       "      <td>4.7</td>\n",
       "      <td>3.2</td>\n",
       "      <td>1.3</td>\n",
       "      <td>0.2</td>\n",
       "      <td>setosa</td>\n",
       "    </tr>\n",
       "    <tr>\n",
       "      <th>3</th>\n",
       "      <td>4.6</td>\n",
       "      <td>3.1</td>\n",
       "      <td>1.5</td>\n",
       "      <td>0.2</td>\n",
       "      <td>setosa</td>\n",
       "    </tr>\n",
       "    <tr>\n",
       "      <th>4</th>\n",
       "      <td>5.0</td>\n",
       "      <td>3.6</td>\n",
       "      <td>1.4</td>\n",
       "      <td>0.2</td>\n",
       "      <td>setosa</td>\n",
       "    </tr>\n",
       "    <tr>\n",
       "      <th>...</th>\n",
       "      <td>...</td>\n",
       "      <td>...</td>\n",
       "      <td>...</td>\n",
       "      <td>...</td>\n",
       "      <td>...</td>\n",
       "    </tr>\n",
       "    <tr>\n",
       "      <th>145</th>\n",
       "      <td>6.7</td>\n",
       "      <td>3.0</td>\n",
       "      <td>5.2</td>\n",
       "      <td>2.3</td>\n",
       "      <td>virginica</td>\n",
       "    </tr>\n",
       "    <tr>\n",
       "      <th>146</th>\n",
       "      <td>6.3</td>\n",
       "      <td>2.5</td>\n",
       "      <td>5.0</td>\n",
       "      <td>1.9</td>\n",
       "      <td>virginica</td>\n",
       "    </tr>\n",
       "    <tr>\n",
       "      <th>147</th>\n",
       "      <td>6.5</td>\n",
       "      <td>3.0</td>\n",
       "      <td>5.2</td>\n",
       "      <td>2.0</td>\n",
       "      <td>virginica</td>\n",
       "    </tr>\n",
       "    <tr>\n",
       "      <th>148</th>\n",
       "      <td>6.2</td>\n",
       "      <td>3.4</td>\n",
       "      <td>5.4</td>\n",
       "      <td>2.3</td>\n",
       "      <td>virginica</td>\n",
       "    </tr>\n",
       "    <tr>\n",
       "      <th>149</th>\n",
       "      <td>5.9</td>\n",
       "      <td>3.0</td>\n",
       "      <td>5.1</td>\n",
       "      <td>1.8</td>\n",
       "      <td>virginica</td>\n",
       "    </tr>\n",
       "  </tbody>\n",
       "</table>\n",
       "<p>150 rows × 5 columns</p>\n",
       "</div>"
      ],
      "text/plain": [
       "     sepal_length  sepal_width  petal_length  petal_width    species\n",
       "0             5.1          3.5           1.4          0.2     setosa\n",
       "1             4.9          3.0           1.4          0.2     setosa\n",
       "2             4.7          3.2           1.3          0.2     setosa\n",
       "3             4.6          3.1           1.5          0.2     setosa\n",
       "4             5.0          3.6           1.4          0.2     setosa\n",
       "..            ...          ...           ...          ...        ...\n",
       "145           6.7          3.0           5.2          2.3  virginica\n",
       "146           6.3          2.5           5.0          1.9  virginica\n",
       "147           6.5          3.0           5.2          2.0  virginica\n",
       "148           6.2          3.4           5.4          2.3  virginica\n",
       "149           5.9          3.0           5.1          1.8  virginica\n",
       "\n",
       "[150 rows x 5 columns]"
      ]
     },
     "execution_count": 55,
     "metadata": {},
     "output_type": "execute_result"
    }
   ],
   "source": [
    "# Read the data with pandas\n",
    "\n",
    "df = pd.read_csv(\"iris.csv\", header=0)\n",
    "df"
   ]
  },
  {
   "cell_type": "markdown",
   "id": "326e3a1b",
   "metadata": {},
   "source": [
    "# EDA Process "
   ]
  },
  {
   "cell_type": "code",
   "execution_count": 56,
   "id": "69c6d430",
   "metadata": {},
   "outputs": [
    {
     "data": {
      "text/plain": [
       "(150, 5)"
      ]
     },
     "execution_count": 56,
     "metadata": {},
     "output_type": "execute_result"
    }
   ],
   "source": [
    "# Checking the shape of the data\n",
    "df.shape"
   ]
  },
  {
   "cell_type": "code",
   "execution_count": 57,
   "id": "f8b2aa52",
   "metadata": {},
   "outputs": [
    {
     "data": {
      "text/html": [
       "<div>\n",
       "<style scoped>\n",
       "    .dataframe tbody tr th:only-of-type {\n",
       "        vertical-align: middle;\n",
       "    }\n",
       "\n",
       "    .dataframe tbody tr th {\n",
       "        vertical-align: top;\n",
       "    }\n",
       "\n",
       "    .dataframe thead th {\n",
       "        text-align: right;\n",
       "    }\n",
       "</style>\n",
       "<table border=\"1\" class=\"dataframe\">\n",
       "  <thead>\n",
       "    <tr style=\"text-align: right;\">\n",
       "      <th></th>\n",
       "      <th>sepal_length</th>\n",
       "      <th>sepal_width</th>\n",
       "      <th>petal_length</th>\n",
       "      <th>petal_width</th>\n",
       "      <th>species</th>\n",
       "    </tr>\n",
       "  </thead>\n",
       "  <tbody>\n",
       "    <tr>\n",
       "      <th>113</th>\n",
       "      <td>5.7</td>\n",
       "      <td>2.5</td>\n",
       "      <td>5.0</td>\n",
       "      <td>2.0</td>\n",
       "      <td>virginica</td>\n",
       "    </tr>\n",
       "  </tbody>\n",
       "</table>\n",
       "</div>"
      ],
      "text/plain": [
       "     sepal_length  sepal_width  petal_length  petal_width    species\n",
       "113           5.7          2.5           5.0          2.0  virginica"
      ]
     },
     "execution_count": 57,
     "metadata": {},
     "output_type": "execute_result"
    }
   ],
   "source": [
    "# Reading random Rows of the data\n",
    "\n",
    "df.sample()"
   ]
  },
  {
   "cell_type": "code",
   "execution_count": 58,
   "id": "e4e7c5f7",
   "metadata": {},
   "outputs": [
    {
     "data": {
      "text/plain": [
       "Index(['sepal_length', 'sepal_width', 'petal_length', 'petal_width',\n",
       "       'species'],\n",
       "      dtype='object')"
      ]
     },
     "execution_count": 58,
     "metadata": {},
     "output_type": "execute_result"
    }
   ],
   "source": [
    "#Reading the name of the columns\n",
    "\n",
    "df.columns"
   ]
  },
  {
   "cell_type": "code",
   "execution_count": 59,
   "id": "9947b0d8",
   "metadata": {},
   "outputs": [
    {
     "data": {
      "text/plain": [
       "sepal_length    float64\n",
       "sepal_width     float64\n",
       "petal_length    float64\n",
       "petal_width     float64\n",
       "species          object\n",
       "dtype: object"
      ]
     },
     "execution_count": 59,
     "metadata": {},
     "output_type": "execute_result"
    }
   ],
   "source": [
    "#finding the datatype of each feature\n",
    "\n",
    "df.dtypes"
   ]
  },
  {
   "cell_type": "code",
   "execution_count": 60,
   "id": "454c3494",
   "metadata": {},
   "outputs": [
    {
     "name": "stdout",
     "output_type": "stream",
     "text": [
      "<class 'pandas.core.frame.DataFrame'>\n",
      "RangeIndex: 150 entries, 0 to 149\n",
      "Data columns (total 5 columns):\n",
      " #   Column        Non-Null Count  Dtype  \n",
      "---  ------        --------------  -----  \n",
      " 0   sepal_length  150 non-null    float64\n",
      " 1   sepal_width   150 non-null    float64\n",
      " 2   petal_length  150 non-null    float64\n",
      " 3   petal_width   150 non-null    float64\n",
      " 4   species       150 non-null    object \n",
      "dtypes: float64(4), object(1)\n",
      "memory usage: 6.0+ KB\n"
     ]
    }
   ],
   "source": [
    " # checking the information of the dataset\n",
    "    \n",
    "df.info()"
   ]
  },
  {
   "cell_type": "code",
   "execution_count": 61,
   "id": "2933710f",
   "metadata": {},
   "outputs": [
    {
     "data": {
      "text/html": [
       "<div>\n",
       "<style scoped>\n",
       "    .dataframe tbody tr th:only-of-type {\n",
       "        vertical-align: middle;\n",
       "    }\n",
       "\n",
       "    .dataframe tbody tr th {\n",
       "        vertical-align: top;\n",
       "    }\n",
       "\n",
       "    .dataframe thead th {\n",
       "        text-align: right;\n",
       "    }\n",
       "</style>\n",
       "<table border=\"1\" class=\"dataframe\">\n",
       "  <thead>\n",
       "    <tr style=\"text-align: right;\">\n",
       "      <th></th>\n",
       "      <th>sepal_length</th>\n",
       "      <th>sepal_width</th>\n",
       "      <th>petal_length</th>\n",
       "      <th>petal_width</th>\n",
       "    </tr>\n",
       "  </thead>\n",
       "  <tbody>\n",
       "    <tr>\n",
       "      <th>count</th>\n",
       "      <td>150.000000</td>\n",
       "      <td>150.000000</td>\n",
       "      <td>150.000000</td>\n",
       "      <td>150.000000</td>\n",
       "    </tr>\n",
       "    <tr>\n",
       "      <th>mean</th>\n",
       "      <td>5.843333</td>\n",
       "      <td>3.054000</td>\n",
       "      <td>3.758667</td>\n",
       "      <td>1.198667</td>\n",
       "    </tr>\n",
       "    <tr>\n",
       "      <th>std</th>\n",
       "      <td>0.828066</td>\n",
       "      <td>0.433594</td>\n",
       "      <td>1.764420</td>\n",
       "      <td>0.763161</td>\n",
       "    </tr>\n",
       "    <tr>\n",
       "      <th>min</th>\n",
       "      <td>4.300000</td>\n",
       "      <td>2.000000</td>\n",
       "      <td>1.000000</td>\n",
       "      <td>0.100000</td>\n",
       "    </tr>\n",
       "    <tr>\n",
       "      <th>25%</th>\n",
       "      <td>5.100000</td>\n",
       "      <td>2.800000</td>\n",
       "      <td>1.600000</td>\n",
       "      <td>0.300000</td>\n",
       "    </tr>\n",
       "    <tr>\n",
       "      <th>50%</th>\n",
       "      <td>5.800000</td>\n",
       "      <td>3.000000</td>\n",
       "      <td>4.350000</td>\n",
       "      <td>1.300000</td>\n",
       "    </tr>\n",
       "    <tr>\n",
       "      <th>75%</th>\n",
       "      <td>6.400000</td>\n",
       "      <td>3.300000</td>\n",
       "      <td>5.100000</td>\n",
       "      <td>1.800000</td>\n",
       "    </tr>\n",
       "    <tr>\n",
       "      <th>max</th>\n",
       "      <td>7.900000</td>\n",
       "      <td>4.400000</td>\n",
       "      <td>6.900000</td>\n",
       "      <td>2.500000</td>\n",
       "    </tr>\n",
       "  </tbody>\n",
       "</table>\n",
       "</div>"
      ],
      "text/plain": [
       "       sepal_length  sepal_width  petal_length  petal_width\n",
       "count    150.000000   150.000000    150.000000   150.000000\n",
       "mean       5.843333     3.054000      3.758667     1.198667\n",
       "std        0.828066     0.433594      1.764420     0.763161\n",
       "min        4.300000     2.000000      1.000000     0.100000\n",
       "25%        5.100000     2.800000      1.600000     0.300000\n",
       "50%        5.800000     3.000000      4.350000     1.300000\n",
       "75%        6.400000     3.300000      5.100000     1.800000\n",
       "max        7.900000     4.400000      6.900000     2.500000"
      ]
     },
     "execution_count": 61,
     "metadata": {},
     "output_type": "execute_result"
    }
   ],
   "source": [
    "#for the description \n",
    "\n",
    "df.describe()"
   ]
  },
  {
   "cell_type": "code",
   "execution_count": 62,
   "id": "7ce3bfa6",
   "metadata": {},
   "outputs": [
    {
     "data": {
      "text/plain": [
       "sepal_length    0\n",
       "sepal_width     0\n",
       "petal_length    0\n",
       "petal_width     0\n",
       "species         0\n",
       "dtype: int64"
      ]
     },
     "execution_count": 62,
     "metadata": {},
     "output_type": "execute_result"
    }
   ],
   "source": [
    "#total number of missing value in a table of each column\n",
    "\n",
    "df.isnull().sum() "
   ]
  },
  {
   "cell_type": "code",
   "execution_count": 63,
   "id": "e8e7a2c3",
   "metadata": {},
   "outputs": [],
   "source": [
    "dataset = df"
   ]
  },
  {
   "cell_type": "code",
   "execution_count": 64,
   "id": "7cf2dee7",
   "metadata": {},
   "outputs": [],
   "source": [
    "# Converting non numerical column into numerical\n",
    "\n",
    "from sklearn.preprocessing import LabelEncoder\n",
    "\n",
    "Label = LabelEncoder() \n",
    "dataset['species'] = Label.fit_transform(df[ 'species'])\n"
   ]
  },
  {
   "cell_type": "code",
   "execution_count": 65,
   "id": "85e665e6",
   "metadata": {},
   "outputs": [
    {
     "data": {
      "text/html": [
       "<div>\n",
       "<style scoped>\n",
       "    .dataframe tbody tr th:only-of-type {\n",
       "        vertical-align: middle;\n",
       "    }\n",
       "\n",
       "    .dataframe tbody tr th {\n",
       "        vertical-align: top;\n",
       "    }\n",
       "\n",
       "    .dataframe thead th {\n",
       "        text-align: right;\n",
       "    }\n",
       "</style>\n",
       "<table border=\"1\" class=\"dataframe\">\n",
       "  <thead>\n",
       "    <tr style=\"text-align: right;\">\n",
       "      <th></th>\n",
       "      <th>sepal_length</th>\n",
       "      <th>sepal_width</th>\n",
       "      <th>petal_length</th>\n",
       "      <th>petal_width</th>\n",
       "      <th>species</th>\n",
       "    </tr>\n",
       "  </thead>\n",
       "  <tbody>\n",
       "    <tr>\n",
       "      <th>0</th>\n",
       "      <td>5.1</td>\n",
       "      <td>3.5</td>\n",
       "      <td>1.4</td>\n",
       "      <td>0.2</td>\n",
       "      <td>0</td>\n",
       "    </tr>\n",
       "    <tr>\n",
       "      <th>1</th>\n",
       "      <td>4.9</td>\n",
       "      <td>3.0</td>\n",
       "      <td>1.4</td>\n",
       "      <td>0.2</td>\n",
       "      <td>0</td>\n",
       "    </tr>\n",
       "    <tr>\n",
       "      <th>2</th>\n",
       "      <td>4.7</td>\n",
       "      <td>3.2</td>\n",
       "      <td>1.3</td>\n",
       "      <td>0.2</td>\n",
       "      <td>0</td>\n",
       "    </tr>\n",
       "    <tr>\n",
       "      <th>3</th>\n",
       "      <td>4.6</td>\n",
       "      <td>3.1</td>\n",
       "      <td>1.5</td>\n",
       "      <td>0.2</td>\n",
       "      <td>0</td>\n",
       "    </tr>\n",
       "    <tr>\n",
       "      <th>4</th>\n",
       "      <td>5.0</td>\n",
       "      <td>3.6</td>\n",
       "      <td>1.4</td>\n",
       "      <td>0.2</td>\n",
       "      <td>0</td>\n",
       "    </tr>\n",
       "    <tr>\n",
       "      <th>...</th>\n",
       "      <td>...</td>\n",
       "      <td>...</td>\n",
       "      <td>...</td>\n",
       "      <td>...</td>\n",
       "      <td>...</td>\n",
       "    </tr>\n",
       "    <tr>\n",
       "      <th>145</th>\n",
       "      <td>6.7</td>\n",
       "      <td>3.0</td>\n",
       "      <td>5.2</td>\n",
       "      <td>2.3</td>\n",
       "      <td>2</td>\n",
       "    </tr>\n",
       "    <tr>\n",
       "      <th>146</th>\n",
       "      <td>6.3</td>\n",
       "      <td>2.5</td>\n",
       "      <td>5.0</td>\n",
       "      <td>1.9</td>\n",
       "      <td>2</td>\n",
       "    </tr>\n",
       "    <tr>\n",
       "      <th>147</th>\n",
       "      <td>6.5</td>\n",
       "      <td>3.0</td>\n",
       "      <td>5.2</td>\n",
       "      <td>2.0</td>\n",
       "      <td>2</td>\n",
       "    </tr>\n",
       "    <tr>\n",
       "      <th>148</th>\n",
       "      <td>6.2</td>\n",
       "      <td>3.4</td>\n",
       "      <td>5.4</td>\n",
       "      <td>2.3</td>\n",
       "      <td>2</td>\n",
       "    </tr>\n",
       "    <tr>\n",
       "      <th>149</th>\n",
       "      <td>5.9</td>\n",
       "      <td>3.0</td>\n",
       "      <td>5.1</td>\n",
       "      <td>1.8</td>\n",
       "      <td>2</td>\n",
       "    </tr>\n",
       "  </tbody>\n",
       "</table>\n",
       "<p>150 rows × 5 columns</p>\n",
       "</div>"
      ],
      "text/plain": [
       "     sepal_length  sepal_width  petal_length  petal_width  species\n",
       "0             5.1          3.5           1.4          0.2        0\n",
       "1             4.9          3.0           1.4          0.2        0\n",
       "2             4.7          3.2           1.3          0.2        0\n",
       "3             4.6          3.1           1.5          0.2        0\n",
       "4             5.0          3.6           1.4          0.2        0\n",
       "..            ...          ...           ...          ...      ...\n",
       "145           6.7          3.0           5.2          2.3        2\n",
       "146           6.3          2.5           5.0          1.9        2\n",
       "147           6.5          3.0           5.2          2.0        2\n",
       "148           6.2          3.4           5.4          2.3        2\n",
       "149           5.9          3.0           5.1          1.8        2\n",
       "\n",
       "[150 rows x 5 columns]"
      ]
     },
     "execution_count": 65,
     "metadata": {},
     "output_type": "execute_result"
    }
   ],
   "source": [
    "dataset"
   ]
  },
  {
   "cell_type": "code",
   "execution_count": 66,
   "id": "2fc4dc58",
   "metadata": {},
   "outputs": [],
   "source": [
    "# Separating the output from the dataset\n",
    "\n",
    "X = dataset.loc[:,dataset.columns!=\"species\"]\n"
   ]
  },
  {
   "cell_type": "code",
   "execution_count": 67,
   "id": "b0f2c68f",
   "metadata": {},
   "outputs": [],
   "source": [
    "# Creating output column\n",
    "\n",
    "y = dataset[\"species\"]\n"
   ]
  },
  {
   "cell_type": "code",
   "execution_count": 68,
   "id": "ecccb97f",
   "metadata": {},
   "outputs": [
    {
     "data": {
      "text/html": [
       "<div>\n",
       "<style scoped>\n",
       "    .dataframe tbody tr th:only-of-type {\n",
       "        vertical-align: middle;\n",
       "    }\n",
       "\n",
       "    .dataframe tbody tr th {\n",
       "        vertical-align: top;\n",
       "    }\n",
       "\n",
       "    .dataframe thead th {\n",
       "        text-align: right;\n",
       "    }\n",
       "</style>\n",
       "<table border=\"1\" class=\"dataframe\">\n",
       "  <thead>\n",
       "    <tr style=\"text-align: right;\">\n",
       "      <th></th>\n",
       "      <th>sepal_length</th>\n",
       "      <th>sepal_width</th>\n",
       "      <th>petal_length</th>\n",
       "      <th>petal_width</th>\n",
       "    </tr>\n",
       "  </thead>\n",
       "  <tbody>\n",
       "    <tr>\n",
       "      <th>2</th>\n",
       "      <td>4.7</td>\n",
       "      <td>3.2</td>\n",
       "      <td>1.3</td>\n",
       "      <td>0.2</td>\n",
       "    </tr>\n",
       "    <tr>\n",
       "      <th>111</th>\n",
       "      <td>6.4</td>\n",
       "      <td>2.7</td>\n",
       "      <td>5.3</td>\n",
       "      <td>1.9</td>\n",
       "    </tr>\n",
       "    <tr>\n",
       "      <th>126</th>\n",
       "      <td>6.2</td>\n",
       "      <td>2.8</td>\n",
       "      <td>4.8</td>\n",
       "      <td>1.8</td>\n",
       "    </tr>\n",
       "    <tr>\n",
       "      <th>143</th>\n",
       "      <td>6.8</td>\n",
       "      <td>3.2</td>\n",
       "      <td>5.9</td>\n",
       "      <td>2.3</td>\n",
       "    </tr>\n",
       "    <tr>\n",
       "      <th>36</th>\n",
       "      <td>5.5</td>\n",
       "      <td>3.5</td>\n",
       "      <td>1.3</td>\n",
       "      <td>0.2</td>\n",
       "    </tr>\n",
       "  </tbody>\n",
       "</table>\n",
       "</div>"
      ],
      "text/plain": [
       "     sepal_length  sepal_width  petal_length  petal_width\n",
       "2             4.7          3.2           1.3          0.2\n",
       "111           6.4          2.7           5.3          1.9\n",
       "126           6.2          2.8           4.8          1.8\n",
       "143           6.8          3.2           5.9          2.3\n",
       "36            5.5          3.5           1.3          0.2"
      ]
     },
     "execution_count": 68,
     "metadata": {},
     "output_type": "execute_result"
    }
   ],
   "source": [
    "# Checking the five rows of the input columns\n",
    "\n",
    "X.sample(5)"
   ]
  },
  {
   "cell_type": "code",
   "execution_count": 83,
   "id": "5db68c45",
   "metadata": {},
   "outputs": [
    {
     "data": {
      "text/plain": [
       "100    2\n",
       "96     1\n",
       "146    2\n",
       "41     0\n",
       "112    2\n",
       "Name: species, dtype: int32"
      ]
     },
     "execution_count": 83,
     "metadata": {},
     "output_type": "execute_result"
    }
   ],
   "source": [
    "# Checking the five rows of the output columns\n",
    "\n",
    "y.sample(5)"
   ]
  },
  {
   "cell_type": "markdown",
   "id": "4cdb5ddd",
   "metadata": {},
   "source": [
    "# train - test split"
   ]
  },
  {
   "cell_type": "code",
   "execution_count": 70,
   "id": "7760eb8e",
   "metadata": {},
   "outputs": [],
   "source": [
    "# Importing the train test split \n",
    "\n",
    "from sklearn.model_selection import train_test_split"
   ]
  },
  {
   "cell_type": "code",
   "execution_count": 71,
   "id": "238bde2f",
   "metadata": {},
   "outputs": [],
   "source": [
    "# Separating the Training and testing Data\n",
    "\n",
    "X_train, X_test, y_train, y_test = train_test_split(X, y,test_size=0.30,random_state=0)"
   ]
  },
  {
   "cell_type": "markdown",
   "id": "60d6003a",
   "metadata": {},
   "source": [
    "# Model without sklearn"
   ]
  },
  {
   "cell_type": "code",
   "execution_count": 72,
   "id": "e32c75d6",
   "metadata": {},
   "outputs": [],
   "source": [
    "y_train = np.array(y_train).reshape((-1, 1))"
   ]
  },
  {
   "cell_type": "code",
   "execution_count": 82,
   "id": "47b86ee5",
   "metadata": {},
   "outputs": [],
   "source": [
    "class LogisticRegression():\n",
    "    def __init__(self, learning_rate=0.001, num_iterations=10000, y_pred = None):\n",
    "        self.learning_rate = learning_rate\n",
    "        self.num_iterations = num_iterations\n",
    "        self.bias = None\n",
    "        self.weights = None\n",
    "    \n",
    "    \n",
    "    def softmax(self, z):\n",
    "        exp_scores = np.exp(z)\n",
    "        return exp_scores / np.sum(exp_scores, axis=1, keepdims=True)\n",
    "    \n",
    "            \n",
    "    def fit(self, X, y,learning_rate=0.001, num_iterations=10000):\n",
    "        n_samples, n_features = X.shape\n",
    "        n_classes = len(np.unique(y))\n",
    "        self.weights = np.zeros((n_features, n_classes))\n",
    "        self.bias = np.zeros(n_classes)\n",
    "              \n",
    "        for i in range(num_iterations):\n",
    "            Z = np.dot(X, self.weights) + self.bias\n",
    "            LR = self.softmax(Z)\n",
    "            loss = -np.mean(np.sum(y * np.log(LR), axis=1))\n",
    "            dZ = LR - y\n",
    "            \n",
    "            dW = 1 / n_samples * np.dot(X.T, dZ)\n",
    "            db = 1 / n_samples * np.sum(dZ, axis=0)\n",
    "            \n",
    "            self.weights -= learning_rate * dW\n",
    "            self.bias -= learning_rate * db\n",
    "            if (i+1) % 100 == 0:\n",
    "                print(\"Iteration {} - loss: {:.4f}\".format(i+1, loss))   \n",
    "                \n",
    "                \n",
    "    \n",
    "            \n",
    "\n",
    "    def predict(self, X, threshold = 0.33):\n",
    "        Z = np.dot(X, self.weights) + self.bias\n",
    "        LR = self.softmax(Z)\n",
    "        class_pred = []\n",
    "        for i in range(LR.shape[0]):\n",
    "            above_threshold = np.where(LR[i] >= threshold)[0]\n",
    "            if len(above_threshold) > 0:\n",
    "                class_pred.append(above_threshold[np.argmax(LR[i, above_threshold])])\n",
    "            else:\n",
    "                class_pred.append(np.argmax(LR[i]))\n",
    "        return np.array(class_pred)\n",
    "\n",
    "    \n"
   ]
  },
  {
   "cell_type": "code",
   "execution_count": 74,
   "id": "bc447ff1",
   "metadata": {},
   "outputs": [
    {
     "name": "stdout",
     "output_type": "stream",
     "text": [
      "Iteration 100 - loss: 3.4528\n",
      "Iteration 200 - loss: 3.4528\n",
      "Iteration 300 - loss: 3.4528\n",
      "Iteration 400 - loss: 3.4528\n",
      "Iteration 500 - loss: 3.4528\n",
      "Iteration 600 - loss: 3.4528\n",
      "Iteration 700 - loss: 3.4528\n",
      "Iteration 800 - loss: 3.4528\n",
      "Iteration 900 - loss: 3.4528\n",
      "Iteration 1000 - loss: 3.4528\n",
      "Iteration 1100 - loss: 3.4528\n",
      "Iteration 1200 - loss: 3.4528\n",
      "Iteration 1300 - loss: 3.4528\n",
      "Iteration 1400 - loss: 3.4528\n",
      "Iteration 1500 - loss: 3.4528\n",
      "Iteration 1600 - loss: 3.4528\n",
      "Iteration 1700 - loss: 3.4528\n",
      "Iteration 1800 - loss: 3.4528\n",
      "Iteration 1900 - loss: 3.4528\n",
      "Iteration 2000 - loss: 3.4528\n",
      "Iteration 2100 - loss: 3.4528\n",
      "Iteration 2200 - loss: 3.4528\n",
      "Iteration 2300 - loss: 3.4528\n",
      "Iteration 2400 - loss: 3.4528\n",
      "Iteration 2500 - loss: 3.4528\n",
      "Iteration 2600 - loss: 3.4528\n",
      "Iteration 2700 - loss: 3.4528\n",
      "Iteration 2800 - loss: 3.4528\n",
      "Iteration 2900 - loss: 3.4528\n",
      "Iteration 3000 - loss: 3.4528\n",
      "Iteration 3100 - loss: 3.4528\n",
      "Iteration 3200 - loss: 3.4528\n",
      "Iteration 3300 - loss: 3.4528\n",
      "Iteration 3400 - loss: 3.4528\n",
      "Iteration 3500 - loss: 3.4528\n",
      "Iteration 3600 - loss: 3.4528\n",
      "Iteration 3700 - loss: 3.4528\n",
      "Iteration 3800 - loss: 3.4528\n",
      "Iteration 3900 - loss: 3.4528\n",
      "Iteration 4000 - loss: 3.4528\n",
      "Iteration 4100 - loss: 3.4528\n",
      "Iteration 4200 - loss: 3.4528\n",
      "Iteration 4300 - loss: 3.4528\n",
      "Iteration 4400 - loss: 3.4528\n",
      "Iteration 4500 - loss: 3.4528\n",
      "Iteration 4600 - loss: 3.4528\n",
      "Iteration 4700 - loss: 3.4528\n",
      "Iteration 4800 - loss: 3.4528\n",
      "Iteration 4900 - loss: 3.4528\n",
      "Iteration 5000 - loss: 3.4528\n",
      "Iteration 5100 - loss: 3.4528\n",
      "Iteration 5200 - loss: 3.4528\n",
      "Iteration 5300 - loss: 3.4528\n",
      "Iteration 5400 - loss: 3.4528\n",
      "Iteration 5500 - loss: 3.4528\n",
      "Iteration 5600 - loss: 3.4528\n",
      "Iteration 5700 - loss: 3.4528\n",
      "Iteration 5800 - loss: 3.4528\n",
      "Iteration 5900 - loss: 3.4528\n",
      "Iteration 6000 - loss: 3.4528\n",
      "Iteration 6100 - loss: 3.4528\n",
      "Iteration 6200 - loss: 3.4528\n",
      "Iteration 6300 - loss: 3.4528\n",
      "Iteration 6400 - loss: 3.4528\n",
      "Iteration 6500 - loss: 3.4528\n",
      "Iteration 6600 - loss: 3.4528\n",
      "Iteration 6700 - loss: 3.4528\n",
      "Iteration 6800 - loss: 3.4528\n",
      "Iteration 6900 - loss: 3.4528\n",
      "Iteration 7000 - loss: 3.4528\n",
      "Iteration 7100 - loss: 3.4528\n",
      "Iteration 7200 - loss: 3.4528\n",
      "Iteration 7300 - loss: 3.4528\n",
      "Iteration 7400 - loss: 3.4528\n",
      "Iteration 7500 - loss: 3.4528\n",
      "Iteration 7600 - loss: 3.4528\n",
      "Iteration 7700 - loss: 3.4528\n",
      "Iteration 7800 - loss: 3.4528\n",
      "Iteration 7900 - loss: 3.4528\n",
      "Iteration 8000 - loss: 3.4528\n",
      "Iteration 8100 - loss: 3.4528\n",
      "Iteration 8200 - loss: 3.4528\n",
      "Iteration 8300 - loss: 3.4528\n",
      "Iteration 8400 - loss: 3.4528\n",
      "Iteration 8500 - loss: 3.4528\n",
      "Iteration 8600 - loss: 3.4528\n",
      "Iteration 8700 - loss: 3.4528\n",
      "Iteration 8800 - loss: 3.4528\n",
      "Iteration 8900 - loss: 3.4528\n",
      "Iteration 9000 - loss: 3.4528\n",
      "Iteration 9100 - loss: 3.4528\n",
      "Iteration 9200 - loss: 3.4528\n",
      "Iteration 9300 - loss: nan\n",
      "Iteration 9400 - loss: nan\n",
      "Iteration 9500 - loss: nan\n",
      "Iteration 9600 - loss: nan\n",
      "Iteration 9700 - loss: nan\n",
      "Iteration 9800 - loss: nan\n",
      "Iteration 9900 - loss: nan\n",
      "Iteration 10000 - loss: nan\n"
     ]
    }
   ],
   "source": [
    "\n",
    "model = LogisticRegression(learning_rate=0.001, num_iterations=10000, y_pred = None)\n",
    "model.fit(X_train, y_train)\n",
    "y_pred = model.predict(X_test)"
   ]
  },
  {
   "cell_type": "code",
   "execution_count": 75,
   "id": "947ece8c",
   "metadata": {},
   "outputs": [],
   "source": [
    "# Importing accuracy-score and confusion_matrix package\n",
    "\n",
    "from sklearn.metrics import accuracy_score"
   ]
  },
  {
   "cell_type": "code",
   "execution_count": 84,
   "id": "c01a7660",
   "metadata": {},
   "outputs": [],
   "source": [
    "import time"
   ]
  },
  {
   "cell_type": "markdown",
   "id": "bd3dde7f",
   "metadata": {},
   "source": [
    "# Accuracy score of Logistic Regression model without using sklearn package"
   ]
  },
  {
   "cell_type": "code",
   "execution_count": 76,
   "id": "84175ae5",
   "metadata": {},
   "outputs": [
    {
     "data": {
      "text/plain": [
       "0.35555555555555557"
      ]
     },
     "execution_count": 76,
     "metadata": {},
     "output_type": "execute_result"
    }
   ],
   "source": [
    "# Checking the accuracy Score\n",
    "\n",
    "accuracy_score(y_test, y_pred)"
   ]
  },
  {
   "cell_type": "code",
   "execution_count": 85,
   "id": "f964ebdf",
   "metadata": {},
   "outputs": [
    {
     "name": "stdout",
     "output_type": "stream",
     "text": [
      "Iteration 100 - loss: 3.4528\n",
      "Iteration 200 - loss: 3.4528\n",
      "Iteration 300 - loss: 3.4528\n",
      "Iteration 400 - loss: 3.4528\n",
      "Iteration 500 - loss: 3.4528\n",
      "Iteration 600 - loss: 3.4528\n",
      "Iteration 700 - loss: 3.4528\n",
      "Iteration 800 - loss: 3.4528\n",
      "Iteration 900 - loss: 3.4528\n",
      "Iteration 1000 - loss: 3.4528\n",
      "Iteration 1100 - loss: 3.4528\n",
      "Iteration 1200 - loss: 3.4528\n",
      "Iteration 1300 - loss: 3.4528\n",
      "Iteration 1400 - loss: 3.4528\n",
      "Iteration 1500 - loss: 3.4528\n",
      "Iteration 1600 - loss: 3.4528\n",
      "Iteration 1700 - loss: 3.4528\n",
      "Iteration 1800 - loss: 3.4528\n",
      "Iteration 1900 - loss: 3.4528\n",
      "Iteration 2000 - loss: 3.4528\n",
      "Iteration 2100 - loss: 3.4528\n",
      "Iteration 2200 - loss: 3.4528\n",
      "Iteration 2300 - loss: 3.4528\n",
      "Iteration 2400 - loss: 3.4528\n",
      "Iteration 2500 - loss: 3.4528\n",
      "Iteration 2600 - loss: 3.4528\n",
      "Iteration 2700 - loss: 3.4528\n",
      "Iteration 2800 - loss: 3.4528\n",
      "Iteration 2900 - loss: 3.4528\n",
      "Iteration 3000 - loss: 3.4528\n",
      "Iteration 3100 - loss: 3.4528\n",
      "Iteration 3200 - loss: 3.4528\n",
      "Iteration 3300 - loss: 3.4528\n",
      "Iteration 3400 - loss: 3.4528\n",
      "Iteration 3500 - loss: 3.4528\n",
      "Iteration 3600 - loss: 3.4528\n",
      "Iteration 3700 - loss: 3.4528\n",
      "Iteration 3800 - loss: 3.4528\n",
      "Iteration 3900 - loss: 3.4528\n",
      "Iteration 4000 - loss: 3.4528\n",
      "Iteration 4100 - loss: 3.4528\n",
      "Iteration 4200 - loss: 3.4528\n",
      "Iteration 4300 - loss: 3.4528\n",
      "Iteration 4400 - loss: 3.4528\n",
      "Iteration 4500 - loss: 3.4528\n",
      "Iteration 4600 - loss: 3.4528\n",
      "Iteration 4700 - loss: 3.4528\n",
      "Iteration 4800 - loss: 3.4528\n",
      "Iteration 4900 - loss: 3.4528\n",
      "Iteration 5000 - loss: 3.4528\n",
      "Iteration 5100 - loss: 3.4528\n",
      "Iteration 5200 - loss: 3.4528\n",
      "Iteration 5300 - loss: 3.4528\n",
      "Iteration 5400 - loss: 3.4528\n",
      "Iteration 5500 - loss: 3.4528\n",
      "Iteration 5600 - loss: 3.4528\n",
      "Iteration 5700 - loss: 3.4528\n",
      "Iteration 5800 - loss: 3.4528\n",
      "Iteration 5900 - loss: 3.4528\n",
      "Iteration 6000 - loss: 3.4528\n",
      "Iteration 6100 - loss: 3.4528\n",
      "Iteration 6200 - loss: 3.4528\n",
      "Iteration 6300 - loss: 3.4528\n",
      "Iteration 6400 - loss: 3.4528\n",
      "Iteration 6500 - loss: 3.4528\n",
      "Iteration 6600 - loss: 3.4528\n",
      "Iteration 6700 - loss: 3.4528\n",
      "Iteration 6800 - loss: 3.4528\n",
      "Iteration 6900 - loss: 3.4528\n",
      "Iteration 7000 - loss: 3.4528\n",
      "Iteration 7100 - loss: 3.4528\n",
      "Iteration 7200 - loss: 3.4528\n",
      "Iteration 7300 - loss: 3.4528\n",
      "Iteration 7400 - loss: 3.4528\n",
      "Iteration 7500 - loss: 3.4528\n",
      "Iteration 7600 - loss: 3.4528\n",
      "Iteration 7700 - loss: 3.4528\n",
      "Iteration 7800 - loss: 3.4528\n",
      "Iteration 7900 - loss: 3.4528\n",
      "Iteration 8000 - loss: 3.4528\n",
      "Iteration 8100 - loss: 3.4528\n",
      "Iteration 8200 - loss: 3.4528\n",
      "Iteration 8300 - loss: 3.4528\n",
      "Iteration 8400 - loss: 3.4528\n",
      "Iteration 8500 - loss: 3.4528\n",
      "Iteration 8600 - loss: 3.4528\n",
      "Iteration 8700 - loss: 3.4528\n",
      "Iteration 8800 - loss: 3.4528\n",
      "Iteration 8900 - loss: 3.4528\n",
      "Iteration 9000 - loss: 3.4528\n",
      "Iteration 9100 - loss: 3.4528\n",
      "Iteration 9200 - loss: 3.4528\n",
      "Iteration 9300 - loss: nan\n",
      "Iteration 9400 - loss: nan\n",
      "Iteration 9500 - loss: nan\n",
      "Iteration 9600 - loss: nan\n",
      "Iteration 9700 - loss: nan\n",
      "Iteration 9800 - loss: nan\n",
      "Iteration 9900 - loss: nan\n",
      "Iteration 10000 - loss: nan\n"
     ]
    }
   ],
   "source": [
    "m = LogisticRegression(learning_rate=0.001, num_iterations=10000, y_pred = None)\n",
    "\n",
    "start_time = time.time()\n",
    "m.fit(X_train, y_train)\n",
    "end_time = time.time()\n",
    "elapsed_time = end_time - start_time"
   ]
  },
  {
   "cell_type": "code",
   "execution_count": 86,
   "id": "ba2c9b8d",
   "metadata": {},
   "outputs": [],
   "source": [
    "N =  X_train.shape[0] #number of samples in the training set\n",
    "d = X_train.shape[1] # number of features\n",
    "time_complexity = elapsed_time / (N**2 * d)"
   ]
  },
  {
   "cell_type": "code",
   "execution_count": 87,
   "id": "fd081c5e",
   "metadata": {},
   "outputs": [
    {
     "name": "stdout",
     "output_type": "stream",
     "text": [
      "time complexity of fitting a logistic regression model is 0.0000810991\n"
     ]
    }
   ],
   "source": [
    "print(\"time complexity of fitting a logistic regression model without using sklearn is {:.10f}\".format(time_complexity))"
   ]
  },
  {
   "cell_type": "markdown",
   "id": "9ecde9e8",
   "metadata": {},
   "source": [
    "# Model with sklearn"
   ]
  },
  {
   "cell_type": "code",
   "execution_count": 77,
   "id": "7cd7a814",
   "metadata": {},
   "outputs": [],
   "source": [
    "#importing LogisticRegression package\n",
    "\n",
    "from sklearn.linear_model import LogisticRegression\n",
    "model1 = LogisticRegression()\n",
    "model1.fit(X_train, y_train)\n",
    "y_pred = model1.predict(X_test)"
   ]
  },
  {
   "cell_type": "code",
   "execution_count": 78,
   "id": "56e69057",
   "metadata": {},
   "outputs": [],
   "source": [
    "# Importing accuracy-score and confusion_matrix package\n",
    "\n",
    "from sklearn.metrics import accuracy_score"
   ]
  },
  {
   "cell_type": "markdown",
   "id": "11b7f5bd",
   "metadata": {},
   "source": [
    "# Accuracy score of Logistic Regression model using sklearn package"
   ]
  },
  {
   "cell_type": "code",
   "execution_count": 79,
   "id": "462d95b3",
   "metadata": {},
   "outputs": [
    {
     "data": {
      "text/plain": [
       "0.9777777777777777"
      ]
     },
     "execution_count": 79,
     "metadata": {},
     "output_type": "execute_result"
    }
   ],
   "source": [
    "# Checking the accuracy Score\n",
    "\n",
    "accuracy_score(y_test, y_pred)"
   ]
  },
  {
   "cell_type": "code",
   "execution_count": 88,
   "id": "2c2173aa",
   "metadata": {},
   "outputs": [
    {
     "name": "stdout",
     "output_type": "stream",
     "text": [
      "Iteration 100 - loss: 3.4528\n",
      "Iteration 200 - loss: 3.4528\n",
      "Iteration 300 - loss: 3.4528\n",
      "Iteration 400 - loss: 3.4528\n",
      "Iteration 500 - loss: 3.4528\n",
      "Iteration 600 - loss: 3.4528\n",
      "Iteration 700 - loss: 3.4528\n",
      "Iteration 800 - loss: 3.4528\n",
      "Iteration 900 - loss: 3.4528\n",
      "Iteration 1000 - loss: 3.4528\n",
      "Iteration 1100 - loss: 3.4528\n",
      "Iteration 1200 - loss: 3.4528\n",
      "Iteration 1300 - loss: 3.4528\n",
      "Iteration 1400 - loss: 3.4528\n",
      "Iteration 1500 - loss: 3.4528\n",
      "Iteration 1600 - loss: 3.4528\n",
      "Iteration 1700 - loss: 3.4528\n",
      "Iteration 1800 - loss: 3.4528\n",
      "Iteration 1900 - loss: 3.4528\n",
      "Iteration 2000 - loss: 3.4528\n",
      "Iteration 2100 - loss: 3.4528\n",
      "Iteration 2200 - loss: 3.4528\n",
      "Iteration 2300 - loss: 3.4528\n",
      "Iteration 2400 - loss: 3.4528\n",
      "Iteration 2500 - loss: 3.4528\n",
      "Iteration 2600 - loss: 3.4528\n",
      "Iteration 2700 - loss: 3.4528\n",
      "Iteration 2800 - loss: 3.4528\n",
      "Iteration 2900 - loss: 3.4528\n",
      "Iteration 3000 - loss: 3.4528\n",
      "Iteration 3100 - loss: 3.4528\n",
      "Iteration 3200 - loss: 3.4528\n",
      "Iteration 3300 - loss: 3.4528\n",
      "Iteration 3400 - loss: 3.4528\n",
      "Iteration 3500 - loss: 3.4528\n",
      "Iteration 3600 - loss: 3.4528\n",
      "Iteration 3700 - loss: 3.4528\n",
      "Iteration 3800 - loss: 3.4528\n",
      "Iteration 3900 - loss: 3.4528\n",
      "Iteration 4000 - loss: 3.4528\n",
      "Iteration 4100 - loss: 3.4528\n",
      "Iteration 4200 - loss: 3.4528\n",
      "Iteration 4300 - loss: 3.4528\n",
      "Iteration 4400 - loss: 3.4528\n",
      "Iteration 4500 - loss: 3.4528\n",
      "Iteration 4600 - loss: 3.4528\n",
      "Iteration 4700 - loss: 3.4528\n",
      "Iteration 4800 - loss: 3.4528\n",
      "Iteration 4900 - loss: 3.4528\n",
      "Iteration 5000 - loss: 3.4528\n",
      "Iteration 5100 - loss: 3.4528\n",
      "Iteration 5200 - loss: 3.4528\n",
      "Iteration 5300 - loss: 3.4528\n",
      "Iteration 5400 - loss: 3.4528\n",
      "Iteration 5500 - loss: 3.4528\n",
      "Iteration 5600 - loss: 3.4528\n",
      "Iteration 5700 - loss: 3.4528\n",
      "Iteration 5800 - loss: 3.4528\n",
      "Iteration 5900 - loss: 3.4528\n",
      "Iteration 6000 - loss: 3.4528\n",
      "Iteration 6100 - loss: 3.4528\n",
      "Iteration 6200 - loss: 3.4528\n",
      "Iteration 6300 - loss: 3.4528\n",
      "Iteration 6400 - loss: 3.4528\n",
      "Iteration 6500 - loss: 3.4528\n",
      "Iteration 6600 - loss: 3.4528\n",
      "Iteration 6700 - loss: 3.4528\n",
      "Iteration 6800 - loss: 3.4528\n",
      "Iteration 6900 - loss: 3.4528\n",
      "Iteration 7000 - loss: 3.4528\n",
      "Iteration 7100 - loss: 3.4528\n",
      "Iteration 7200 - loss: 3.4528\n",
      "Iteration 7300 - loss: 3.4528\n",
      "Iteration 7400 - loss: 3.4528\n",
      "Iteration 7500 - loss: 3.4528\n",
      "Iteration 7600 - loss: 3.4528\n",
      "Iteration 7700 - loss: 3.4528\n",
      "Iteration 7800 - loss: 3.4528\n",
      "Iteration 7900 - loss: 3.4528\n",
      "Iteration 8000 - loss: 3.4528\n",
      "Iteration 8100 - loss: 3.4528\n",
      "Iteration 8200 - loss: 3.4528\n",
      "Iteration 8300 - loss: 3.4528\n",
      "Iteration 8400 - loss: 3.4528\n",
      "Iteration 8500 - loss: 3.4528\n",
      "Iteration 8600 - loss: 3.4528\n",
      "Iteration 8700 - loss: 3.4528\n",
      "Iteration 8800 - loss: 3.4528\n",
      "Iteration 8900 - loss: 3.4528\n",
      "Iteration 9000 - loss: 3.4528\n",
      "Iteration 9100 - loss: 3.4528\n",
      "Iteration 9200 - loss: 3.4528\n",
      "Iteration 9300 - loss: nan\n",
      "Iteration 9400 - loss: nan\n",
      "Iteration 9500 - loss: nan\n",
      "Iteration 9600 - loss: nan\n",
      "Iteration 9700 - loss: nan\n",
      "Iteration 9800 - loss: nan\n",
      "Iteration 9900 - loss: nan\n",
      "Iteration 10000 - loss: nan\n"
     ]
    }
   ],
   "source": [
    "m1 = LogisticRegression()\n",
    "\n",
    "start_time = time.time()\n",
    "m1.fit(X_train, y_train)\n",
    "end_time = time.time()\n",
    "elapsed_time = end_time - start_time"
   ]
  },
  {
   "cell_type": "code",
   "execution_count": 89,
   "id": "0dec6065",
   "metadata": {},
   "outputs": [],
   "source": [
    "N1 =  X_train.shape[0] #number of samples in the training set\n",
    "d1 = X_train.shape[1] # number of features\n",
    "time_complexity1 = elapsed_time / (N1**2 * d1)"
   ]
  },
  {
   "cell_type": "code",
   "execution_count": 90,
   "id": "e566a41c",
   "metadata": {},
   "outputs": [
    {
     "name": "stdout",
     "output_type": "stream",
     "text": [
      "time complexity of fitting a logistic regression model using sklearn is 0.0000841134\n"
     ]
    }
   ],
   "source": [
    "print(\"time complexity of fitting a logistic regression model using sklearn is {:.10f}\".format(time_complexity1))"
   ]
  },
  {
   "cell_type": "code",
   "execution_count": null,
   "id": "f03cbfb9",
   "metadata": {},
   "outputs": [],
   "source": []
  }
 ],
 "metadata": {
  "kernelspec": {
   "display_name": "Python 3 (ipykernel)",
   "language": "python",
   "name": "python3"
  },
  "language_info": {
   "codemirror_mode": {
    "name": "ipython",
    "version": 3
   },
   "file_extension": ".py",
   "mimetype": "text/x-python",
   "name": "python",
   "nbconvert_exporter": "python",
   "pygments_lexer": "ipython3",
   "version": "3.9.13"
  }
 },
 "nbformat": 4,
 "nbformat_minor": 5
}
